{
 "cells": [
  {
   "cell_type": "markdown",
   "id": "3faba662",
   "metadata": {},
   "source": [
    "# Data Science Tools and Ecosystem"
   ]
  },
  {
   "cell_type": "markdown",
   "id": "3b36cc30",
   "metadata": {},
   "source": [
    "In this notebook, Data Science Tools and Ecosystem are summarized."
   ]
  },
  {
   "cell_type": "markdown",
   "id": "17711059",
   "metadata": {},
   "source": [
    "**Objectives**\n",
    "* one: List popular languages for Data Science\n",
    "* two: List popular libraries for Data Science\n",
    "* three: Convert minutes to hours"
   ]
  },
  {
   "cell_type": "markdown",
   "id": "9806d6c0",
   "metadata": {},
   "source": [
    "    Some of the popular languages that Data Scientists use are: 1. Python\n",
    "                                                                2. C++\n",
    "                                                                3. Java"
   ]
  },
  {
   "cell_type": "markdown",
   "id": "f29be506",
   "metadata": {},
   "source": [
    "    Some of the commonly used libraries used by Data Scientists include: 1. TensorFlow\n",
    "                                                                         2. NumPy\n",
    "                                                                         3. SciPy\n",
    "                                                                         4. Pandas"
   ]
  },
  {
   "cell_type": "markdown",
   "id": "1f140c90",
   "metadata": {},
   "source": [
    "| Data Science Tools |\n",
    "| ----- |\n",
    "| RStudio |\n",
    "| Apache Spark |\n",
    "| TensorFlow |"
   ]
  },
  {
   "cell_type": "markdown",
   "id": "adc2581a",
   "metadata": {},
   "source": [
    "### Below are a few examples of evaluating arithmetic expressions in Python"
   ]
  },
  {
   "cell_type": "code",
   "execution_count": 1,
   "id": "4cb971b0",
   "metadata": {},
   "outputs": [
    {
     "data": {
      "text/plain": [
       "17"
      ]
     },
     "execution_count": 1,
     "metadata": {},
     "output_type": "execute_result"
    }
   ],
   "source": [
    "#This a simple arithmetic expression to mutiply then add integers\n",
    "(3*4)+5"
   ]
  },
  {
   "cell_type": "code",
   "execution_count": 2,
   "id": "eba64bbc",
   "metadata": {},
   "outputs": [
    {
     "data": {
      "text/plain": [
       "3.3333333333333335"
      ]
     },
     "execution_count": 2,
     "metadata": {},
     "output_type": "execute_result"
    }
   ],
   "source": [
    "#This will convert 200 minutes to hours by diving by 60\n",
    "200/60"
   ]
  },
  {
   "cell_type": "markdown",
   "id": "96ced3c2",
   "metadata": {},
   "source": [
    "## Author\n",
    "Felix Stötzel"
   ]
  }
 ],
 "metadata": {
  "kernelspec": {
   "display_name": "bachelor",
   "language": "python",
   "name": "bachelor"
  },
  "language_info": {
   "codemirror_mode": {
    "name": "ipython",
    "version": 3
   },
   "file_extension": ".py",
   "mimetype": "text/x-python",
   "name": "python",
   "nbconvert_exporter": "python",
   "pygments_lexer": "ipython3",
   "version": "3.10.9"
  }
 },
 "nbformat": 4,
 "nbformat_minor": 5
}
